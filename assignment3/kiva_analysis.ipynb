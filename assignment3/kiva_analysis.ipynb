{
 "cells": [
  {
   "cell_type": "markdown",
   "id": "2b74749b-5701-422e-8457-1cfad7ac1cb9",
   "metadata": {},
   "source": [
    "You should perform some meaningful analysis of the data, that includes at least the following types of operation:\n",
    "\n",
    "1. Select rows using string methods (e.g. .isin) and numerical conditions\n",
    "\n",
    "2. Sort table using one or more columns\n",
    "\n",
    "3. Group and aggregate rows with \"groupby\"\n",
    "\n",
    "4. Create a new variable with \"apply\" and \"lambda\""
   ]
  },
  {
   "cell_type": "markdown",
   "id": "94433520-de79-44c5-bede-0daa3bfb456a",
   "metadata": {},
   "source": [
    "### Determine average loan based on gender in each country within the food and agriculture sectors"
   ]
  },
  {
   "cell_type": "code",
   "execution_count": 1,
   "id": "da88a254-abe6-4330-a948-fbd4b4c060a5",
   "metadata": {},
   "outputs": [],
   "source": [
    "import pandas as pd\n",
    "import requests"
   ]
  },
  {
   "cell_type": "code",
   "execution_count": 2,
   "id": "3da1bae0-7707-466c-85a1-c49ebe72157d",
   "metadata": {},
   "outputs": [],
   "source": [
    "# Load data\n",
    "df = pd.read_csv('kiva_loans.csv')"
   ]
  },
  {
   "cell_type": "code",
   "execution_count": 3,
   "id": "7b2e6756-eb6e-48bd-9b73-b8209f766bd9",
   "metadata": {},
   "outputs": [],
   "source": [
    "# Filter out values that don't have 'male' or 'female' as values in the borrower_genders column\n",
    "filtered_df = df[df['borrower_genders'].isin(['male', 'female'])]"
   ]
  },
  {
   "cell_type": "code",
   "execution_count": 4,
   "id": "dd002cfe-6e36-47fd-b88a-679984891291",
   "metadata": {},
   "outputs": [],
   "source": [
    "# How many unique currencies\n",
    "currencies = df['currency'].unique()\n",
    "sorted_currencies = sorted(currencies)"
   ]
  },
  {
   "cell_type": "code",
   "execution_count": 5,
   "id": "3a1531fd-94a7-4d59-87b6-dee445efc46c",
   "metadata": {},
   "outputs": [],
   "source": [
    "# Select rows using string methods (e.g. .isin) and numerical conditions\n",
    "# Select rows where 'sector' is food or ag\n",
    "sector_filter = filtered_df[filtered_df['sector'].str.contains('Agriculture') | filtered_df['sector'].str.contains('Food')].copy()"
   ]
  },
  {
   "cell_type": "code",
   "execution_count": 6,
   "id": "56f7a323-14fe-4ac8-8514-378cf1446f97",
   "metadata": {},
   "outputs": [],
   "source": [
    "# Convert all currency to EUR to standardize\n",
    "# Get data from currency API\n",
    "url = 'https://api.exchangerate-api.com/v4/latest/EUR'\n",
    "response = requests.get(url)\n",
    "currency_data = response.json()"
   ]
  },
  {
   "cell_type": "code",
   "execution_count": 7,
   "id": "808bd615-743a-46f5-b0b3-84711f097569",
   "metadata": {},
   "outputs": [],
   "source": [
    "# Check that the values from the currency_data dictionary are in the sorted df by adding a currency_matches column\n",
    "sector_filter['currency_matches'] = sector_filter['currency'].isin(currency_data['rates'])"
   ]
  },
  {
   "cell_type": "code",
   "execution_count": 8,
   "id": "7af8eaac-c46f-4aec-9dc0-a9ae8aa673cb",
   "metadata": {},
   "outputs": [],
   "source": [
    "# Remove rows where currency is 'ALL' \n",
    "sector_filter = sector_filter.loc[sector_filter['currency'] != 'ALL'].copy()"
   ]
  },
  {
   "cell_type": "code",
   "execution_count": 9,
   "id": "2ca46dc9-cbfc-46ce-89d1-34778f4f6343",
   "metadata": {},
   "outputs": [],
   "source": [
    "# Add a column with the currency converted to EUR\n",
    "sector_filter['loan_amount_eur'] = sector_filter.apply(\n",
    "    lambda row: row['loan_amount'] / currency_data['rates'].get(row['currency'], 1),  # Default rate is 1 if currency not found\n",
    "    axis=1\n",
    ")"
   ]
  },
  {
   "cell_type": "code",
   "execution_count": 10,
   "id": "b8b65fd4-8a9d-436c-b135-a454cfe8001d",
   "metadata": {},
   "outputs": [],
   "source": [
    "# Group and aggregate rows with \"groupby\"\n",
    "# Group by gender and country\n",
    "summary_data = sector_filter.groupby(['country', 'borrower_genders', 'loan_amount', 'currency'])['loan_amount_eur'].mean()"
   ]
  },
  {
   "cell_type": "code",
   "execution_count": 11,
   "id": "717b4f1a-fbb9-47a4-9f87-52e4f9f3908f",
   "metadata": {},
   "outputs": [],
   "source": [
    "# Convert summary data to a df\n",
    "summary_data_df = summary_data.reset_index()\n",
    "# Round loan_amount_eur\n",
    "summary_data_df.loan_amount_eur = summary_data_df.loan_amount_eur.round(3)"
   ]
  },
  {
   "cell_type": "code",
   "execution_count": 12,
   "id": "d9a7c1bb-9e52-4a8b-a901-528035597aea",
   "metadata": {},
   "outputs": [],
   "source": [
    "# Sort data by highest loans\n",
    "sorted_summary = summary_data_df.sort_values(by='loan_amount_eur', ascending=False)"
   ]
  }
 ],
 "metadata": {
  "kernelspec": {
   "display_name": "Python 3 (ipykernel)",
   "language": "python",
   "name": "python3"
  },
  "language_info": {
   "codemirror_mode": {
    "name": "ipython",
    "version": 3
   },
   "file_extension": ".py",
   "mimetype": "text/x-python",
   "name": "python",
   "nbconvert_exporter": "python",
   "pygments_lexer": "ipython3",
   "version": "3.12.6"
  }
 },
 "nbformat": 4,
 "nbformat_minor": 5
}
