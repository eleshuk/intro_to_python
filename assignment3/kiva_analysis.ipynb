{
 "cells": [
  {
   "cell_type": "markdown",
   "id": "2b74749b-5701-422e-8457-1cfad7ac1cb9",
   "metadata": {},
   "source": [
    "You should perform some meaningful analysis of the data, that includes at least the following types of operation:\n",
    "\n",
    "1. Select rows using string methods (e.g. .isin) and numerical conditions\n",
    "\n",
    "2. Sort table using one or more columns\n",
    "\n",
    "3. Group and aggregate rows with \"groupby\"\n",
    "\n",
    "4. Create a new variable with \"apply\" and \"lambda\""
   ]
  },
  {
   "cell_type": "markdown",
   "id": "94433520-de79-44c5-bede-0daa3bfb456a",
   "metadata": {},
   "source": [
    "### Determine average loan based on gender in each country within the food and agriculture sectors"
   ]
  },
  {
   "cell_type": "code",
   "execution_count": 1,
   "id": "da88a254-abe6-4330-a948-fbd4b4c060a5",
   "metadata": {},
   "outputs": [],
   "source": [
    "import pandas as pd\n",
    "import requests"
   ]
  },
  {
   "cell_type": "code",
   "execution_count": 2,
   "id": "3da1bae0-7707-466c-85a1-c49ebe72157d",
   "metadata": {},
   "outputs": [],
   "source": [
    "# Load data\n",
    "df = pd.read_csv('kiva_loans.csv')"
   ]
  },
  {
   "cell_type": "code",
   "execution_count": 3,
   "id": "7b2e6756-eb6e-48bd-9b73-b8209f766bd9",
   "metadata": {},
   "outputs": [],
   "source": [
    "# Filter out values that don't have 'male' or 'female' as values in the borrower_genders column\n",
    "filtered_df = df[df['borrower_genders'].isin(['male', 'female'])]"
   ]
  },
  {
   "cell_type": "code",
   "execution_count": 4,
   "id": "dd002cfe-6e36-47fd-b88a-679984891291",
   "metadata": {},
   "outputs": [],
   "source": [
    "# How many unique currencies\n",
    "currencies = df['currency'].unique()\n",
    "sorted_currencies = sorted(currencies)"
   ]
  },
  {
   "cell_type": "code",
   "execution_count": 5,
   "id": "3a1531fd-94a7-4d59-87b6-dee445efc46c",
   "metadata": {},
   "outputs": [],
   "source": [
    "# Select rows using string methods (e.g. .isin) and numerical conditions\n",
    "# Select rows where 'sector' is food or ag\n",
    "sector_filter = filtered_df[filtered_df['sector'].str.contains('Agriculture') | filtered_df['sector'].str.contains('Food')].copy()"
   ]
  },
  {
   "cell_type": "code",
   "execution_count": 6,
   "id": "56f7a323-14fe-4ac8-8514-378cf1446f97",
   "metadata": {},
   "outputs": [],
   "source": [
    "# Convert all currency to EUR to standardize\n",
    "# Get data from currency API\n",
    "url = 'https://api.exchangerate-api.com/v4/latest/EUR'\n",
    "response = requests.get(url)\n",
    "currency_data = response.json()"
   ]
  },
  {
   "cell_type": "code",
   "execution_count": 7,
   "id": "808bd615-743a-46f5-b0b3-84711f097569",
   "metadata": {},
   "outputs": [],
   "source": [
    "# Check that the values from the currency_data dictionary are in the sorted df by adding a currency_matches column\n",
    "sector_filter['currency_matches'] = sector_filter['currency'].isin(currency_data['rates'])"
   ]
  },
  {
   "cell_type": "code",
   "execution_count": 9,
   "id": "2ca46dc9-cbfc-46ce-89d1-34778f4f6343",
   "metadata": {},
   "outputs": [],
   "source": [
    "# Add a column with the currency converted to EUR\n",
    "sector_filter['loan_amount_eur'] = sector_filter.apply(\n",
    "    lambda row: row['loan_amount'] / currency_data['rates'].get(row['currency'], 1),  # Default rate is 1 if currency not found\n",
    "    axis=1\n",
    ")"
   ]
  },
  {
   "cell_type": "code",
   "execution_count": 10,
   "id": "b8b65fd4-8a9d-436c-b135-a454cfe8001d",
   "metadata": {},
   "outputs": [],
   "source": [
    "# Group and aggregate rows with \"groupby\"\n",
    "# Group by gender and country\n",
    "summary_data = sector_filter.groupby(['country', 'borrower_genders', 'loan_amount', 'currency'])['loan_amount_eur'].mean()"
   ]
  },
  {
   "cell_type": "code",
   "execution_count": 11,
   "id": "717b4f1a-fbb9-47a4-9f87-52e4f9f3908f",
   "metadata": {},
   "outputs": [],
   "source": [
    "# Convert summary data to a df\n",
    "summary_data_df = summary_data.reset_index()\n",
    "# Round loan_amount_eur\n",
    "summary_data_df.loan_amount_eur = summary_data_df.loan_amount_eur.round(3)"
   ]
  },
  {
   "cell_type": "code",
   "execution_count": 16,
   "id": "d9a7c1bb-9e52-4a8b-a901-528035597aea",
   "metadata": {},
   "outputs": [
    {
     "data": {
      "text/html": [
       "<div>\n",
       "<style scoped>\n",
       "    .dataframe tbody tr th:only-of-type {\n",
       "        vertical-align: middle;\n",
       "    }\n",
       "\n",
       "    .dataframe tbody tr th {\n",
       "        vertical-align: top;\n",
       "    }\n",
       "\n",
       "    .dataframe thead th {\n",
       "        text-align: right;\n",
       "    }\n",
       "</style>\n",
       "<table border=\"1\" class=\"dataframe\">\n",
       "  <thead>\n",
       "    <tr style=\"text-align: right;\">\n",
       "      <th></th>\n",
       "      <th>country</th>\n",
       "      <th>borrower_genders</th>\n",
       "      <th>loan_amount</th>\n",
       "      <th>currency</th>\n",
       "      <th>loan_amount_eur</th>\n",
       "    </tr>\n",
       "  </thead>\n",
       "  <tbody>\n",
       "    <tr>\n",
       "      <th>2366</th>\n",
       "      <td>Haiti</td>\n",
       "      <td>female</td>\n",
       "      <td>100000.0</td>\n",
       "      <td>USD</td>\n",
       "      <td>94339.623</td>\n",
       "    </tr>\n",
       "    <tr>\n",
       "      <th>5632</th>\n",
       "      <td>Rwanda</td>\n",
       "      <td>male</td>\n",
       "      <td>50000.0</td>\n",
       "      <td>USD</td>\n",
       "      <td>47169.811</td>\n",
       "    </tr>\n",
       "    <tr>\n",
       "      <th>1503</th>\n",
       "      <td>Ecuador</td>\n",
       "      <td>female</td>\n",
       "      <td>50000.0</td>\n",
       "      <td>USD</td>\n",
       "      <td>47169.811</td>\n",
       "    </tr>\n",
       "    <tr>\n",
       "      <th>5296</th>\n",
       "      <td>Peru</td>\n",
       "      <td>male</td>\n",
       "      <td>50000.0</td>\n",
       "      <td>USD</td>\n",
       "      <td>47169.811</td>\n",
       "    </tr>\n",
       "    <tr>\n",
       "      <th>3012</th>\n",
       "      <td>Kenya</td>\n",
       "      <td>male</td>\n",
       "      <td>50000.0</td>\n",
       "      <td>USD</td>\n",
       "      <td>47169.811</td>\n",
       "    </tr>\n",
       "    <tr>\n",
       "      <th>2935</th>\n",
       "      <td>Kenya</td>\n",
       "      <td>female</td>\n",
       "      <td>50000.0</td>\n",
       "      <td>USD</td>\n",
       "      <td>47169.811</td>\n",
       "    </tr>\n",
       "    <tr>\n",
       "      <th>556</th>\n",
       "      <td>Benin</td>\n",
       "      <td>male</td>\n",
       "      <td>50000.0</td>\n",
       "      <td>USD</td>\n",
       "      <td>47169.811</td>\n",
       "    </tr>\n",
       "    <tr>\n",
       "      <th>2706</th>\n",
       "      <td>Indonesia</td>\n",
       "      <td>male</td>\n",
       "      <td>50000.0</td>\n",
       "      <td>USD</td>\n",
       "      <td>47169.811</td>\n",
       "    </tr>\n",
       "    <tr>\n",
       "      <th>6833</th>\n",
       "      <td>Uganda</td>\n",
       "      <td>male</td>\n",
       "      <td>50000.0</td>\n",
       "      <td>USD</td>\n",
       "      <td>47169.811</td>\n",
       "    </tr>\n",
       "    <tr>\n",
       "      <th>1423</th>\n",
       "      <td>Cote D'Ivoire</td>\n",
       "      <td>female</td>\n",
       "      <td>50000.0</td>\n",
       "      <td>USD</td>\n",
       "      <td>47169.811</td>\n",
       "    </tr>\n",
       "  </tbody>\n",
       "</table>\n",
       "</div>"
      ],
      "text/plain": [
       "            country borrower_genders  loan_amount currency  loan_amount_eur\n",
       "2366          Haiti           female     100000.0      USD        94339.623\n",
       "5632         Rwanda             male      50000.0      USD        47169.811\n",
       "1503        Ecuador           female      50000.0      USD        47169.811\n",
       "5296           Peru             male      50000.0      USD        47169.811\n",
       "3012          Kenya             male      50000.0      USD        47169.811\n",
       "2935          Kenya           female      50000.0      USD        47169.811\n",
       "556           Benin             male      50000.0      USD        47169.811\n",
       "2706      Indonesia             male      50000.0      USD        47169.811\n",
       "6833         Uganda             male      50000.0      USD        47169.811\n",
       "1423  Cote D'Ivoire           female      50000.0      USD        47169.811"
      ]
     },
     "execution_count": 16,
     "metadata": {},
     "output_type": "execute_result"
    }
   ],
   "source": [
    "# Sort data by highest loans\n",
    "sorted_summary = summary_data_df.sort_values(by='loan_amount_eur', ascending=False)\n",
    "sorted_summary.head(10)"
   ]
  }
 ],
 "metadata": {
  "kernelspec": {
   "display_name": "Python 3 (ipykernel)",
   "language": "python",
   "name": "python3"
  },
  "language_info": {
   "codemirror_mode": {
    "name": "ipython",
    "version": 3
   },
   "file_extension": ".py",
   "mimetype": "text/x-python",
   "name": "python",
   "nbconvert_exporter": "python",
   "pygments_lexer": "ipython3",
   "version": "3.12.6"
  }
 },
 "nbformat": 4,
 "nbformat_minor": 5
}
