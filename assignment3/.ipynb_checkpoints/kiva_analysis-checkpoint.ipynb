{
 "cells": [
  {
   "cell_type": "code",
   "execution_count": 32,
   "id": "1fd43673-6b75-41fe-b078-0da4401c8a47",
   "metadata": {},
   "outputs": [],
   "source": [
    "import pandas as pd\n",
    "import requests"
   ]
  },
  {
   "cell_type": "markdown",
   "id": "2b74749b-5701-422e-8457-1cfad7ac1cb9",
   "metadata": {},
   "source": [
    "You should perform some meaningful analysis of the data, that includes at least the following types of operation:\n",
    "\n",
    "1. Select rows using string methods (e.g. .isin) and numerical conditions\n",
    "\n",
    "2. Sort table using one or more columns\n",
    "\n",
    "3. Group and aggregate rows with \"groupby\"\n",
    "\n",
    "4. Create a new variable with \"apply\" and \"lambda\""
   ]
  },
  {
   "cell_type": "code",
   "execution_count": 13,
   "id": "3da1bae0-7707-466c-85a1-c49ebe72157d",
   "metadata": {},
   "outputs": [],
   "source": [
    "# Load data\n",
    "df = pd.read_csv('kiva_loans.csv')\n",
    "# data.head()"
   ]
  },
  {
   "cell_type": "code",
   "execution_count": 14,
   "id": "a27d51ee-3863-49ef-bc47-49194adfafa3",
   "metadata": {},
   "outputs": [
    {
     "data": {
      "text/plain": [
       "Index(['id', 'funded_amount', 'loan_amount', 'activity', 'sector', 'use',\n",
       "       'country_code', 'country', 'region', 'currency', 'partner_id',\n",
       "       'posted_time', 'disbursed_time', 'funded_time', 'term_in_months',\n",
       "       'lender_count', 'tags', 'borrower_genders', 'repayment_interval',\n",
       "       'date'],\n",
       "      dtype='object')"
      ]
     },
     "execution_count": 14,
     "metadata": {},
     "output_type": "execute_result"
    }
   ],
   "source": [
    "df.columns"
   ]
  },
  {
   "cell_type": "code",
   "execution_count": 11,
   "id": "bb0b95f0-014a-45fb-bd2b-00bc175394eb",
   "metadata": {},
   "outputs": [],
   "source": [
    "# What countries are represented?\n",
    "# countries = data['country'].unique()\n",
    "# countries"
   ]
  },
  {
   "cell_type": "code",
   "execution_count": 23,
   "id": "dd002cfe-6e36-47fd-b88a-679984891291",
   "metadata": {},
   "outputs": [],
   "source": [
    "# How many unique currencies\n",
    "currencies = df['currency'].unique()\n",
    "sorted_currencies = sorted(currencies)"
   ]
  },
  {
   "cell_type": "markdown",
   "id": "1c5d161e-48d9-4c57-a614-9ffc0f91d77d",
   "metadata": {},
   "source": [
    "## Determine average loan based on gender in each country within the food and agriculture sectors\n",
    "### Convert all currency to euro"
   ]
  },
  {
   "cell_type": "code",
   "execution_count": 18,
   "id": "3a1531fd-94a7-4d59-87b6-dee445efc46c",
   "metadata": {},
   "outputs": [],
   "source": [
    "# Select rows using string methods (e.g. .isin) and numerical conditions\n",
    "# Select rows where 'sector' is food or ag\n",
    "sector_filter = df[df['sector'].str.contains('Agriculture') | df['sector'].str.contains('Food')]"
   ]
  },
  {
   "cell_type": "code",
   "execution_count": 25,
   "id": "15660fb0-f4a6-498b-a188-32faac1c3bbe",
   "metadata": {},
   "outputs": [
    {
     "data": {
      "text/plain": [
       "Index(['id', 'funded_amount', 'loan_amount', 'activity', 'sector', 'use',\n",
       "       'country_code', 'country', 'region', 'currency', 'partner_id',\n",
       "       'posted_time', 'disbursed_time', 'funded_time', 'term_in_months',\n",
       "       'lender_count', 'tags', 'borrower_genders', 'repayment_interval',\n",
       "       'date'],\n",
       "      dtype='object')"
      ]
     },
     "execution_count": 25,
     "metadata": {},
     "output_type": "execute_result"
    }
   ],
   "source": [
    "sector_filter.columns"
   ]
  },
  {
   "cell_type": "code",
   "execution_count": 28,
   "id": "8d8ac3c1-539e-4810-a38b-68c67647a055",
   "metadata": {},
   "outputs": [],
   "source": [
    "# Sort table by country, alphabetically\n",
    "filtered_df_sorted = sector_filter.sort_values(by='country')"
   ]
  },
  {
   "cell_type": "code",
   "execution_count": 34,
   "id": "56f7a323-14fe-4ac8-8514-378cf1446f97",
   "metadata": {},
   "outputs": [],
   "source": [
    "# Convert all currency to EUR\n",
    "# Get data from currency API\n",
    "url = 'https://api.exchangerate-api.com/v4/latest/USD'\n",
    "response = requests.get(url)\n",
    "data = response.json()"
   ]
  },
  {
   "cell_type": "code",
   "execution_count": null,
   "id": "2ca46dc9-cbfc-46ce-89d1-34778f4f6343",
   "metadata": {},
   "outputs": [],
   "source": []
  },
  {
   "cell_type": "code",
   "execution_count": 30,
   "id": "b8b65fd4-8a9d-436c-b135-a454cfe8001d",
   "metadata": {},
   "outputs": [
    {
     "data": {
      "text/plain": [
       "country      borrower_genders        \n",
       "Afghanistan  female                      7000.000000\n",
       "Albania      female                      1329.813360\n",
       "             male                        1436.874305\n",
       "Armenia      female                      1570.527587\n",
       "             male                        1373.289676\n",
       "                                            ...     \n",
       "Zimbabwe     male, female, female        1500.000000\n",
       "             male, female, male          1200.000000\n",
       "             male, male, female, male    1200.000000\n",
       "             male, male, male            2150.000000\n",
       "             male, male, male, female    1200.000000\n",
       "Name: loan_amount, Length: 17988, dtype: float64"
      ]
     },
     "execution_count": 30,
     "metadata": {},
     "output_type": "execute_result"
    }
   ],
   "source": [
    "# Group and aggregate rows with \"groupby\"\n",
    "# Group by gender and country\n",
    "# df.groupby(['country', 'borrower_genders'])['loan_amount_usd'].mean()"
   ]
  },
  {
   "cell_type": "code",
   "execution_count": null,
   "id": "82a19869-f3ba-44ab-9f5e-80a101adabda",
   "metadata": {},
   "outputs": [],
   "source": []
  }
 ],
 "metadata": {
  "kernelspec": {
   "display_name": "Python 3 (ipykernel)",
   "language": "python",
   "name": "python3"
  },
  "language_info": {
   "codemirror_mode": {
    "name": "ipython",
    "version": 3
   },
   "file_extension": ".py",
   "mimetype": "text/x-python",
   "name": "python",
   "nbconvert_exporter": "python",
   "pygments_lexer": "ipython3",
   "version": "3.12.6"
  }
 },
 "nbformat": 4,
 "nbformat_minor": 5
}
